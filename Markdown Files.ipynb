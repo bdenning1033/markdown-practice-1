{
 "cells": [
  {
   "cell_type": "markdown",
   "id": "a3508de6",
   "metadata": {},
   "source": [
    "# Title Header"
   ]
  },
  {
   "cell_type": "markdown",
   "id": "97e862d4",
   "metadata": {},
   "source": [
    "## Header 2 for major headings"
   ]
  },
  {
   "cell_type": "markdown",
   "id": "c90168ae",
   "metadata": {},
   "source": [
    "### Header 3 for subheading"
   ]
  },
  {
   "cell_type": "markdown",
   "id": "89728b93",
   "metadata": {},
   "source": [
    "### Blockquotes\n",
    "> This is a good day"
   ]
  },
  {
   "cell_type": "markdown",
   "id": "f44694bd",
   "metadata": {},
   "source": [
    "#### Lists\n",
    "* This is bullet list 1\n",
    "* This is bullet list 2"
   ]
  },
  {
   "cell_type": "markdown",
   "id": "b513f793",
   "metadata": {},
   "source": [
    "#### Ordered lists\n",
    "1. This is order1\n",
    "2. This is order2"
   ]
  },
  {
   "cell_type": "markdown",
   "id": "8ebee6e2",
   "metadata": {},
   "source": [
    "#### Bold \n",
    "**This is a bold word**"
   ]
  },
  {
   "cell_type": "markdown",
   "id": "4cb1d723",
   "metadata": {},
   "source": [
    "#### Italic \n",
    "*These are italicized word*"
   ]
  },
  {
   "cell_type": "markdown",
   "id": "246bff03",
   "metadata": {},
   "source": [
    "#### Highlight code\n",
    "This code is `Highlighted`"
   ]
  },
  {
   "cell_type": "markdown",
   "id": "860e296d",
   "metadata": {},
   "source": [
    "#### Hyperlink\n",
    "<a href=\"http://google.com/\">this link is for google.com</a>"
   ]
  },
  {
   "cell_type": "markdown",
   "id": "0ba5e7ff",
   "metadata": {},
   "source": [
    "#### Render image\n",
    "[Python Logo](https://www.google.com/search?sca_esv=575664537&sxsrf=AM9HkKn2fuSfRSKSm7qt2Ge_6X801doMpQ:1698022338641&q=python+logo&tbm=isch&source=lnms&sa=X&sqi=2&ved=2ahUKEwiNwMKS-oqCAxWLmokEHc2KCzwQ0pQJegQIDBAB&biw=1470&bih=802&dpr=2#imgrc=ZGrUAG15RPyY7M)"
   ]
  },
  {
   "cell_type": "code",
   "execution_count": null,
   "id": "88f1b68b",
   "metadata": {},
   "outputs": [],
   "source": []
  }
 ],
 "metadata": {
  "kernelspec": {
   "display_name": "Python 3 (ipykernel)",
   "language": "python",
   "name": "python3"
  },
  "language_info": {
   "codemirror_mode": {
    "name": "ipython",
    "version": 3
   },
   "file_extension": ".py",
   "mimetype": "text/x-python",
   "name": "python",
   "nbconvert_exporter": "python",
   "pygments_lexer": "ipython3",
   "version": "3.11.5"
  }
 },
 "nbformat": 4,
 "nbformat_minor": 5
}
